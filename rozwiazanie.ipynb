{
 "cells": [
  {
   "cell_type": "code",
   "execution_count": 14,
   "metadata": {},
   "outputs": [
    {
     "data": {
      "image/png": "[encoded data removed]",
      "text/latex": [
       "$\\displaystyle \\left( x, \\  k, \\  a, \\  m, \\  t, \\  \\hbar, \\  n, \\  \\psi{\\left(x \\right)}\\right)$"
      ],
      "text/plain": [
       "(x, k, a, m, t, h̅, n, ψ(x))"
      ]
     },
     "execution_count": 14,
     "metadata": {},
     "output_type": "execute_result"
    }
   ],
   "source": [
    "import sympy as sp\n",
    "import numpy as np\n",
    "import matplotlib.pyplot as plt\n",
    "from sympy.utilities import lambdify\n",
    "from scipy.constants import h\n",
    "\n",
    "sp.init_printing()\n",
    "\n",
    "x = sp.Symbol('x', real=True)\n",
    "k = sp.Symbol('k', real=True, positive=True)\n",
    "a = sp.Symbol('a', real=True)\n",
    "m = sp.Symbol('m', real=True, positive=True)\n",
    "t = sp.Symbol('t', real=True, positive=True)\n",
    "hbar = sp.Symbol('hbar', real=True, positive=True)\n",
    "n = sp.Symbol('n', integer=True, nonzero=True)\n",
    "psi = sp.Function('psi')\n",
    "\n",
    "x, k, a, m, t, hbar, n, psi(x)"
   ]
  },
  {
   "cell_type": "code",
   "execution_count": 15,
   "metadata": {},
   "outputs": [
    {
     "data": {
      "image/png": "[encoded data removed]",
      "text/latex": [
       "$\\displaystyle \\psi{\\left(x \\right)} = C_{1} \\sin{\\left(\\frac{\\pi n x}{a} \\right)}$"
      ],
      "text/plain": [
       "             ⎛π⋅n⋅x⎞\n",
       "ψ(x) = C₁⋅sin⎜─────⎟\n",
       "             ⎝  a  ⎠"
      ]
     },
     "execution_count": 15,
     "metadata": {},
     "output_type": "execute_result"
    }
   ],
   "source": [
    "eq = sp.Eq(psi(x).diff(x, x), -k**2 * psi(x))\n",
    "sol = sp.dsolve(eq, psi(x), ics={psi(0): 0})\n",
    "sol = sol.subs(k, n * sp.pi / a)\n",
    "sol"
   ]
  },
  {
   "cell_type": "code",
   "execution_count": 16,
   "metadata": {},
   "outputs": [
    {
     "data": {
      "image/png": "[encoded data removed]",
      "text/latex": [
       "$\\displaystyle \\psi{\\left(x \\right)} = \\sqrt{2} \\sqrt{\\frac{1}{a}} \\sin{\\left(\\frac{\\pi n x}{a} \\right)}$"
      ],
      "text/plain": [
       "              ___           \n",
       "             ╱ 1     ⎛π⋅n⋅x⎞\n",
       "ψ(x) = √2⋅  ╱  ─ ⋅sin⎜─────⎟\n",
       "          ╲╱   a     ⎝  a  ⎠"
      ]
     },
     "execution_count": 16,
     "metadata": {},
     "output_type": "execute_result"
    }
   ],
   "source": [
    "sol = sol.subs(sp.Symbol('C1'), sp.sqrt(2 / a))\n",
    "sol"
   ]
  },
  {
   "cell_type": "markdown",
   "metadata": {},
   "source": [
    "Spradzić, czy ta zasada nieoznaczoności jest faktycznie dla tej studni potencjału spełniona.\n",
    "\n",
    "Aby sprawdzić przestrzeganie zasady nieoznaczoności Heisenberga w przypadku studni potencjału, musimy dokonać obliczeń wartości średnich i wariancji dla operatorów pędu i położenia w kontekście danej funkcji falowej. Następnie, wykorzystując nierówność Heisenberga, jesteśmy w stanie ocenić, czy wspomniana zasada jest zachowana.\n",
    "\n",
    "W celu ustalenia odchylenia standardowego konieczne jest wyznaczenie wartości średniej operatora położenia i wartości średniej jego kwadratu. Posiadając te dane, możemy obliczyć wariancję, a jej pierwiastkowanie pozwoli nam uzyskać poszukiwane odchylenie standardowe."
   ]
  },
  {
   "cell_type": "code",
   "execution_count": 17,
   "metadata": {},
   "outputs": [
    {
     "data": {
      "image/png": "[encoded data removed]",
      "text/latex": [
       "$\\displaystyle \\frac{a}{2}$"
      ],
      "text/plain": [
       "a\n",
       "─\n",
       "2"
      ]
     },
     "execution_count": 17,
     "metadata": {},
     "output_type": "execute_result"
    }
   ],
   "source": [
    "wartoscOczekiwanaX = sp.integrate(sol.rhs * x * sol.rhs, (x, 0, a)).simplify()\n",
    "wartoscOczekiwanaX"
   ]
  },
  {
   "cell_type": "code",
   "execution_count": 18,
   "metadata": {},
   "outputs": [
    {
     "data": {
      "image/png": "[encoded data removed]",
      "text/latex": [
       "$\\displaystyle \\frac{a^{2}}{3} - \\frac{a^{2}}{2 \\pi^{2} n^{2}}$"
      ],
      "text/plain": [
       " 2       2  \n",
       "a       a   \n",
       "── - ───────\n",
       "3       2  2\n",
       "     2⋅π ⋅n "
      ]
     },
     "execution_count": 18,
     "metadata": {},
     "output_type": "execute_result"
    }
   ],
   "source": [
    "wartoscOczekiwanaX2 = sp.integrate(sol.rhs * x**2 * sol.rhs, (x, 0, a)).simplify()\n",
    "wartoscOczekiwanaX2"
   ]
  },
  {
   "cell_type": "code",
   "execution_count": 19,
   "metadata": {},
   "outputs": [
    {
     "data": {
      "image/png": "[encoded data removed]",
      "text/latex": [
       "$\\displaystyle \\frac{a^{2}}{12} - \\frac{a^{2}}{2 \\pi^{2} n^{2}}$"
      ],
      "text/plain": [
       " 2       2  \n",
       "a       a   \n",
       "── - ───────\n",
       "12      2  2\n",
       "     2⋅π ⋅n "
      ]
     },
     "execution_count": 19,
     "metadata": {},
     "output_type": "execute_result"
    }
   ],
   "source": [
    "wariancjaX = wartoscOczekiwanaX2 - wartoscOczekiwanaX**2\n",
    "wariancjaX"
   ]
  },
  {
   "cell_type": "code",
   "execution_count": 20,
   "metadata": {},
   "outputs": [
    {
     "data": {
      "image/png": "[encoded data removed]",
      "text/latex": [
       "$\\displaystyle \\sqrt{\\frac{a^{2}}{12} - \\frac{a^{2}}{2 \\pi^{2} n^{2}}}$"
      ],
      "text/plain": [
       "      ______________\n",
       "     ╱  2       2   \n",
       "    ╱  a       a    \n",
       "   ╱   ── - ─────── \n",
       "  ╱    12      2  2 \n",
       "╲╱          2⋅π ⋅n  "
      ]
     },
     "execution_count": 20,
     "metadata": {},
     "output_type": "execute_result"
    }
   ],
   "source": [
    "dewiacjaX = sp.sqrt(wariancjaX)\n",
    "dewiacjaX"
   ]
  },
  {
   "cell_type": "markdown",
   "metadata": {},
   "source": [
    "Analogicznie dla operatora pędu."
   ]
  },
  {
   "cell_type": "code",
   "execution_count": 21,
   "metadata": {},
   "outputs": [
    {
     "data": {
      "image/png": "[encoded data removed]",
      "text/latex": [
       "$\\displaystyle 0$"
      ],
      "text/plain": [
       "0"
      ]
     },
     "execution_count": 21,
     "metadata": {},
     "output_type": "execute_result"
    }
   ],
   "source": [
    "wartoscOczekiwanaP = sp.integrate(sol.rhs * (-hbar*sp.I) * sol.rhs.diff(x), (x, 0, a)).simplify()\n",
    "wartoscOczekiwanaP"
   ]
  },
  {
   "cell_type": "code",
   "execution_count": 22,
   "metadata": {},
   "outputs": [
    {
     "data": {
      "image/png": "[encoded data removed]",
      "text/latex": [
       "$\\displaystyle \\frac{\\pi^{2} \\hbar^{2} n^{2}}{a^{2}}$"
      ],
      "text/plain": [
       " 2  2  2\n",
       "π ⋅h̅ ⋅n \n",
       "────────\n",
       "    2   \n",
       "   a    "
      ]
     },
     "execution_count": 22,
     "metadata": {},
     "output_type": "execute_result"
    }
   ],
   "source": [
    "wartoscOczekiwanaP2 = sp.integrate(sol.rhs * (sol.rhs).diff(x,x) * (-hbar**2), (x, 0, a)).simplify()\n",
    "wartoscOczekiwanaP2"
   ]
  },
  {
   "cell_type": "code",
   "execution_count": 23,
   "metadata": {},
   "outputs": [
    {
     "data": {
      "image/png": "[encoded data removed]",
      "text/latex": [
       "$\\displaystyle \\frac{\\pi^{2} \\hbar^{2} n^{2}}{a^{2}}$"
      ],
      "text/plain": [
       " 2  2  2\n",
       "π ⋅h̅ ⋅n \n",
       "────────\n",
       "    2   \n",
       "   a    "
      ]
     },
     "execution_count": 23,
     "metadata": {},
     "output_type": "execute_result"
    }
   ],
   "source": [
    "wariancjaP = wartoscOczekiwanaP2 - wartoscOczekiwanaP**2\n",
    "wariancjaP"
   ]
  },
  {
   "cell_type": "code",
   "execution_count": 24,
   "metadata": {},
   "outputs": [
    {
     "data": {
      "image/png": "[encoded data removed]",
      "text/latex": [
       "$\\displaystyle \\frac{\\pi \\hbar \\left|{n}\\right|}{\\left|{a}\\right|}$"
      ],
      "text/plain": [
       "π⋅h̅⋅│n│\n",
       "───────\n",
       "  │a│  "
      ]
     },
     "execution_count": 24,
     "metadata": {},
     "output_type": "execute_result"
    }
   ],
   "source": [
    "dewiacjaP = sp.sqrt(wariancjaP)\n",
    "dewiacjaP"
   ]
  },
  {
   "cell_type": "markdown",
   "metadata": {},
   "source": [
    "Aby weryfikować zgodność z nierównością Heisenberga, musimy zbadać, czy produkt odchyleń standardowych dla operatorów położenia i pędu przekracza lub jest równy połowie zredukowanej stałej Plancka."
   ]
  },
  {
   "cell_type": "code",
   "execution_count": 25,
   "metadata": {},
   "outputs": [
    {
     "data": {
      "image/png": "[encoded data removed]",
      "text/latex": [
       "$\\displaystyle \\frac{\\hbar \\sqrt{3 \\pi^{2} n^{2} - 18}}{6}$"
      ],
      "text/plain": [
       "     ______________\n",
       "    ╱    2  2      \n",
       "h̅⋅╲╱  3⋅π ⋅n  - 18 \n",
       "───────────────────\n",
       "         6         "
      ]
     },
     "execution_count": 25,
     "metadata": {},
     "output_type": "execute_result"
    }
   ],
   "source": [
    "wzor=dewiacjaX*dewiacjaP\n",
    "wzor.simplify()"
   ]
  },
  {
   "cell_type": "markdown",
   "metadata": {},
   "source": [
    "Sprawdzamy czy zasada nieoznaczoności jest spełniona dla najmniejszego n=1:"
   ]
  },
  {
   "cell_type": "code",
   "execution_count": 26,
   "metadata": {},
   "outputs": [
    {
     "name": "stdout",
     "output_type": "stream",
     "text": [
      "Zasada nieoznaczoności jest spełniona\n"
     ]
    }
   ],
   "source": [
    "lewa = h*sp.sqrt(3*sp.pi**2-18)/6\n",
    "prawa = h/2\n",
    "prawa\n",
    "lewa.evalf()\n",
    "if(lewa.evalf()>prawa):\n",
    "    print(\"Zasada nieoznaczoności jest spełniona\")\n",
    "else:\n",
    "    print(\"Zasada nieoznaczoności nie jest spełniona\")"
   ]
  }
 ],
 "metadata": {
  "kernelspec": {
   "display_name": "Python 3",
   "language": "python",
   "name": "python3"
  },
  "language_info": {
   "codemirror_mode": {
    "name": "ipython",
    "version": 3
   },
   "file_extension": ".py",
   "mimetype": "text/x-python",
   "name": "python",
   "nbconvert_exporter": "python",
   "pygments_lexer": "ipython3",
   "version": "3.9.13"
  }
 },
 "nbformat": 4,
 "nbformat_minor": 2
}
